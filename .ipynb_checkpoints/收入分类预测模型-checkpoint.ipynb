{
 "cells": [
  {
   "cell_type": "markdown",
   "metadata": {},
   "source": [
    "数据集\n",
    "age   年龄\n",
    "workclass    工作类别\n",
    "fnlwgt        序号\n",
    "education       教育程度\n",
    "education-num     受教育时间\n",
    "marital-status     婚姻状况\n",
    "occupation        职业\n",
    "relationship        关系\n",
    "race               种族\n",
    "sex               性别\n",
    "capital-gain        资本收益\n",
    "capital-loss        资本损失\n",
    "hours-per-week      每周工作小时数\n",
    "native-country     国籍\n",
    "income           收入"
   ]
  },
  {
   "cell_type": "code",
   "execution_count": 2,
   "metadata": {},
   "outputs": [
    {
     "name": "stdout",
     "output_type": "stream",
     "text": [
      "age                  0\n",
      "workclass         1836\n",
      "fnlwgt               0\n",
      "education            0\n",
      "education-num        0\n",
      "marital-status       0\n",
      "occupation        1843\n",
      "relationship         0\n",
      "race                 0\n",
      "sex                  0\n",
      "capital-gain         0\n",
      "capital-loss         0\n",
      "hours-per-week       0\n",
      "native-country     583\n",
      "income               0\n",
      "dtype: int64\n"
     ]
    }
   ],
   "source": [
    "# 导入第三方包\n",
    "import pandas as pd\n",
    "import numpy as np\n",
    "import seaborn as sns\n",
    "# 导入绘图模块\n",
    "import matplotlib.pyplot as plt\n",
    "# 导入模型评估模块\n",
    "from sklearn import metrics\n",
    "# 导入网格搜索法的函数\n",
    "from sklearn.model_selection import GridSearchCV\n",
    "# 数据读取\n",
    "income = pd.read_excel('income.xlsx')\n",
    "# 查看数据集是否存在缺失值\n",
    "print(income.apply(lambda x:np.sum(x.isnull())))"
   ]
  },
  {
   "cell_type": "markdown",
   "metadata": {},
   "source": [
    "基于缺失值的数量和种类，此处用众数进行替补"
   ]
  },
  {
   "cell_type": "code",
   "execution_count": 3,
   "metadata": {},
   "outputs": [
    {
     "data": {
      "text/html": [
       "<div>\n",
       "<style scoped>\n",
       "    .dataframe tbody tr th:only-of-type {\n",
       "        vertical-align: middle;\n",
       "    }\n",
       "\n",
       "    .dataframe tbody tr th {\n",
       "        vertical-align: top;\n",
       "    }\n",
       "\n",
       "    .dataframe thead th {\n",
       "        text-align: right;\n",
       "    }\n",
       "</style>\n",
       "<table border=\"1\" class=\"dataframe\">\n",
       "  <thead>\n",
       "    <tr style=\"text-align: right;\">\n",
       "      <th></th>\n",
       "      <th>age</th>\n",
       "      <th>workclass</th>\n",
       "      <th>fnlwgt</th>\n",
       "      <th>education</th>\n",
       "      <th>education-num</th>\n",
       "      <th>marital-status</th>\n",
       "      <th>occupation</th>\n",
       "      <th>relationship</th>\n",
       "      <th>race</th>\n",
       "      <th>sex</th>\n",
       "      <th>capital-gain</th>\n",
       "      <th>capital-loss</th>\n",
       "      <th>hours-per-week</th>\n",
       "      <th>native-country</th>\n",
       "      <th>income</th>\n",
       "    </tr>\n",
       "  </thead>\n",
       "  <tbody>\n",
       "    <tr>\n",
       "      <th>0</th>\n",
       "      <td>39</td>\n",
       "      <td>State-gov</td>\n",
       "      <td>77516</td>\n",
       "      <td>Bachelors</td>\n",
       "      <td>13</td>\n",
       "      <td>Never-married</td>\n",
       "      <td>Adm-clerical</td>\n",
       "      <td>Not-in-family</td>\n",
       "      <td>White</td>\n",
       "      <td>Male</td>\n",
       "      <td>2174</td>\n",
       "      <td>0</td>\n",
       "      <td>40</td>\n",
       "      <td>United-States</td>\n",
       "      <td>&lt;=50K</td>\n",
       "    </tr>\n",
       "    <tr>\n",
       "      <th>1</th>\n",
       "      <td>50</td>\n",
       "      <td>Self-emp-not-inc</td>\n",
       "      <td>83311</td>\n",
       "      <td>Bachelors</td>\n",
       "      <td>13</td>\n",
       "      <td>Married-civ-spouse</td>\n",
       "      <td>Exec-managerial</td>\n",
       "      <td>Husband</td>\n",
       "      <td>White</td>\n",
       "      <td>Male</td>\n",
       "      <td>0</td>\n",
       "      <td>0</td>\n",
       "      <td>13</td>\n",
       "      <td>United-States</td>\n",
       "      <td>&lt;=50K</td>\n",
       "    </tr>\n",
       "    <tr>\n",
       "      <th>2</th>\n",
       "      <td>38</td>\n",
       "      <td>Private</td>\n",
       "      <td>215646</td>\n",
       "      <td>HS-grad</td>\n",
       "      <td>9</td>\n",
       "      <td>Divorced</td>\n",
       "      <td>Handlers-cleaners</td>\n",
       "      <td>Not-in-family</td>\n",
       "      <td>White</td>\n",
       "      <td>Male</td>\n",
       "      <td>0</td>\n",
       "      <td>0</td>\n",
       "      <td>40</td>\n",
       "      <td>United-States</td>\n",
       "      <td>&lt;=50K</td>\n",
       "    </tr>\n",
       "    <tr>\n",
       "      <th>3</th>\n",
       "      <td>53</td>\n",
       "      <td>Private</td>\n",
       "      <td>234721</td>\n",
       "      <td>11th</td>\n",
       "      <td>7</td>\n",
       "      <td>Married-civ-spouse</td>\n",
       "      <td>Handlers-cleaners</td>\n",
       "      <td>Husband</td>\n",
       "      <td>Black</td>\n",
       "      <td>Male</td>\n",
       "      <td>0</td>\n",
       "      <td>0</td>\n",
       "      <td>40</td>\n",
       "      <td>United-States</td>\n",
       "      <td>&lt;=50K</td>\n",
       "    </tr>\n",
       "    <tr>\n",
       "      <th>4</th>\n",
       "      <td>28</td>\n",
       "      <td>Private</td>\n",
       "      <td>338409</td>\n",
       "      <td>Bachelors</td>\n",
       "      <td>13</td>\n",
       "      <td>Married-civ-spouse</td>\n",
       "      <td>Prof-specialty</td>\n",
       "      <td>Wife</td>\n",
       "      <td>Black</td>\n",
       "      <td>Female</td>\n",
       "      <td>0</td>\n",
       "      <td>0</td>\n",
       "      <td>40</td>\n",
       "      <td>Cuba</td>\n",
       "      <td>&lt;=50K</td>\n",
       "    </tr>\n",
       "  </tbody>\n",
       "</table>\n",
       "</div>"
      ],
      "text/plain": [
       "   age          workclass  fnlwgt   education  education-num  \\\n",
       "0   39          State-gov   77516   Bachelors             13   \n",
       "1   50   Self-emp-not-inc   83311   Bachelors             13   \n",
       "2   38            Private  215646     HS-grad              9   \n",
       "3   53            Private  234721        11th              7   \n",
       "4   28            Private  338409   Bachelors             13   \n",
       "\n",
       "        marital-status          occupation    relationship    race      sex  \\\n",
       "0        Never-married        Adm-clerical   Not-in-family   White     Male   \n",
       "1   Married-civ-spouse     Exec-managerial         Husband   White     Male   \n",
       "2             Divorced   Handlers-cleaners   Not-in-family   White     Male   \n",
       "3   Married-civ-spouse   Handlers-cleaners         Husband   Black     Male   \n",
       "4   Married-civ-spouse      Prof-specialty            Wife   Black   Female   \n",
       "\n",
       "   capital-gain  capital-loss  hours-per-week  native-country  income  \n",
       "0          2174             0              40   United-States   <=50K  \n",
       "1             0             0              13   United-States   <=50K  \n",
       "2             0             0              40   United-States   <=50K  \n",
       "3             0             0              40   United-States   <=50K  \n",
       "4             0             0              40            Cuba   <=50K  "
      ]
     },
     "execution_count": 3,
     "metadata": {},
     "output_type": "execute_result"
    }
   ],
   "source": [
    "income.fillna(value = {'workclass':income.workclass.mode()[0],\n",
    "                              'occupation':income.occupation.mode()[0],\n",
    "                              'native-country':income['native-country'].mode()[0]}, inplace = True)\n",
    "income.head()"
   ]
  },
  {
   "cell_type": "code",
   "execution_count": 4,
   "metadata": {},
   "outputs": [
    {
     "data": {
      "text/html": [
       "<div>\n",
       "<style scoped>\n",
       "    .dataframe tbody tr th:only-of-type {\n",
       "        vertical-align: middle;\n",
       "    }\n",
       "\n",
       "    .dataframe tbody tr th {\n",
       "        vertical-align: top;\n",
       "    }\n",
       "\n",
       "    .dataframe thead th {\n",
       "        text-align: right;\n",
       "    }\n",
       "</style>\n",
       "<table border=\"1\" class=\"dataframe\">\n",
       "  <thead>\n",
       "    <tr style=\"text-align: right;\">\n",
       "      <th></th>\n",
       "      <th>age</th>\n",
       "      <th>fnlwgt</th>\n",
       "      <th>education-num</th>\n",
       "      <th>capital-gain</th>\n",
       "      <th>capital-loss</th>\n",
       "      <th>hours-per-week</th>\n",
       "    </tr>\n",
       "  </thead>\n",
       "  <tbody>\n",
       "    <tr>\n",
       "      <th>count</th>\n",
       "      <td>32561.000000</td>\n",
       "      <td>3.256100e+04</td>\n",
       "      <td>32561.000000</td>\n",
       "      <td>32561.000000</td>\n",
       "      <td>32561.000000</td>\n",
       "      <td>32561.000000</td>\n",
       "    </tr>\n",
       "    <tr>\n",
       "      <th>mean</th>\n",
       "      <td>38.581647</td>\n",
       "      <td>1.897784e+05</td>\n",
       "      <td>10.080679</td>\n",
       "      <td>1077.648844</td>\n",
       "      <td>87.303830</td>\n",
       "      <td>40.437456</td>\n",
       "    </tr>\n",
       "    <tr>\n",
       "      <th>std</th>\n",
       "      <td>13.640433</td>\n",
       "      <td>1.055500e+05</td>\n",
       "      <td>2.572720</td>\n",
       "      <td>7385.292085</td>\n",
       "      <td>402.960219</td>\n",
       "      <td>12.347429</td>\n",
       "    </tr>\n",
       "    <tr>\n",
       "      <th>min</th>\n",
       "      <td>17.000000</td>\n",
       "      <td>1.228500e+04</td>\n",
       "      <td>1.000000</td>\n",
       "      <td>0.000000</td>\n",
       "      <td>0.000000</td>\n",
       "      <td>1.000000</td>\n",
       "    </tr>\n",
       "    <tr>\n",
       "      <th>25%</th>\n",
       "      <td>28.000000</td>\n",
       "      <td>1.178270e+05</td>\n",
       "      <td>9.000000</td>\n",
       "      <td>0.000000</td>\n",
       "      <td>0.000000</td>\n",
       "      <td>40.000000</td>\n",
       "    </tr>\n",
       "    <tr>\n",
       "      <th>50%</th>\n",
       "      <td>37.000000</td>\n",
       "      <td>1.783560e+05</td>\n",
       "      <td>10.000000</td>\n",
       "      <td>0.000000</td>\n",
       "      <td>0.000000</td>\n",
       "      <td>40.000000</td>\n",
       "    </tr>\n",
       "    <tr>\n",
       "      <th>75%</th>\n",
       "      <td>48.000000</td>\n",
       "      <td>2.370510e+05</td>\n",
       "      <td>12.000000</td>\n",
       "      <td>0.000000</td>\n",
       "      <td>0.000000</td>\n",
       "      <td>45.000000</td>\n",
       "    </tr>\n",
       "    <tr>\n",
       "      <th>max</th>\n",
       "      <td>90.000000</td>\n",
       "      <td>1.484705e+06</td>\n",
       "      <td>16.000000</td>\n",
       "      <td>99999.000000</td>\n",
       "      <td>4356.000000</td>\n",
       "      <td>99.000000</td>\n",
       "    </tr>\n",
       "  </tbody>\n",
       "</table>\n",
       "</div>"
      ],
      "text/plain": [
       "                age        fnlwgt  education-num  capital-gain  capital-loss  \\\n",
       "count  32561.000000  3.256100e+04   32561.000000  32561.000000  32561.000000   \n",
       "mean      38.581647  1.897784e+05      10.080679   1077.648844     87.303830   \n",
       "std       13.640433  1.055500e+05       2.572720   7385.292085    402.960219   \n",
       "min       17.000000  1.228500e+04       1.000000      0.000000      0.000000   \n",
       "25%       28.000000  1.178270e+05       9.000000      0.000000      0.000000   \n",
       "50%       37.000000  1.783560e+05      10.000000      0.000000      0.000000   \n",
       "75%       48.000000  2.370510e+05      12.000000      0.000000      0.000000   \n",
       "max       90.000000  1.484705e+06      16.000000  99999.000000   4356.000000   \n",
       "\n",
       "       hours-per-week  \n",
       "count    32561.000000  \n",
       "mean        40.437456  \n",
       "std         12.347429  \n",
       "min          1.000000  \n",
       "25%         40.000000  \n",
       "50%         40.000000  \n",
       "75%         45.000000  \n",
       "max         99.000000  "
      ]
     },
     "execution_count": 4,
     "metadata": {},
     "output_type": "execute_result"
    }
   ],
   "source": [
    "#首先对数据进行探索性数据分析\n",
    "income.describe()"
   ]
  },
  {
   "cell_type": "code",
   "execution_count": 5,
   "metadata": {},
   "outputs": [
    {
     "data": {
      "text/html": [
       "<div>\n",
       "<style scoped>\n",
       "    .dataframe tbody tr th:only-of-type {\n",
       "        vertical-align: middle;\n",
       "    }\n",
       "\n",
       "    .dataframe tbody tr th {\n",
       "        vertical-align: top;\n",
       "    }\n",
       "\n",
       "    .dataframe thead th {\n",
       "        text-align: right;\n",
       "    }\n",
       "</style>\n",
       "<table border=\"1\" class=\"dataframe\">\n",
       "  <thead>\n",
       "    <tr style=\"text-align: right;\">\n",
       "      <th></th>\n",
       "      <th>workclass</th>\n",
       "      <th>education</th>\n",
       "      <th>marital-status</th>\n",
       "      <th>occupation</th>\n",
       "      <th>relationship</th>\n",
       "      <th>race</th>\n",
       "      <th>sex</th>\n",
       "      <th>native-country</th>\n",
       "      <th>income</th>\n",
       "    </tr>\n",
       "  </thead>\n",
       "  <tbody>\n",
       "    <tr>\n",
       "      <th>count</th>\n",
       "      <td>32561</td>\n",
       "      <td>32561</td>\n",
       "      <td>32561</td>\n",
       "      <td>32561</td>\n",
       "      <td>32561</td>\n",
       "      <td>32561</td>\n",
       "      <td>32561</td>\n",
       "      <td>32561</td>\n",
       "      <td>32561</td>\n",
       "    </tr>\n",
       "    <tr>\n",
       "      <th>unique</th>\n",
       "      <td>8</td>\n",
       "      <td>16</td>\n",
       "      <td>7</td>\n",
       "      <td>14</td>\n",
       "      <td>6</td>\n",
       "      <td>5</td>\n",
       "      <td>2</td>\n",
       "      <td>41</td>\n",
       "      <td>2</td>\n",
       "    </tr>\n",
       "    <tr>\n",
       "      <th>top</th>\n",
       "      <td>Private</td>\n",
       "      <td>HS-grad</td>\n",
       "      <td>Married-civ-spouse</td>\n",
       "      <td>Prof-specialty</td>\n",
       "      <td>Husband</td>\n",
       "      <td>White</td>\n",
       "      <td>Male</td>\n",
       "      <td>United-States</td>\n",
       "      <td>&lt;=50K</td>\n",
       "    </tr>\n",
       "    <tr>\n",
       "      <th>freq</th>\n",
       "      <td>24532</td>\n",
       "      <td>10501</td>\n",
       "      <td>14976</td>\n",
       "      <td>5983</td>\n",
       "      <td>13193</td>\n",
       "      <td>27816</td>\n",
       "      <td>21790</td>\n",
       "      <td>29753</td>\n",
       "      <td>24720</td>\n",
       "    </tr>\n",
       "  </tbody>\n",
       "</table>\n",
       "</div>"
      ],
      "text/plain": [
       "       workclass education       marital-status       occupation relationship  \\\n",
       "count      32561     32561                32561            32561        32561   \n",
       "unique         8        16                    7               14            6   \n",
       "top      Private   HS-grad   Married-civ-spouse   Prof-specialty      Husband   \n",
       "freq       24532     10501                14976             5983        13193   \n",
       "\n",
       "          race    sex  native-country  income  \n",
       "count    32561  32561           32561   32561  \n",
       "unique       5      2              41       2  \n",
       "top      White   Male   United-States   <=50K  \n",
       "freq     27816  21790           29753   24720  "
      ]
     },
     "execution_count": 5,
     "metadata": {},
     "output_type": "execute_result"
    }
   ],
   "source": [
    "#对离散型数据变量进行描述性统计分析\n",
    "income.describe(include =[ 'object'])"
   ]
  },
  {
   "cell_type": "code",
   "execution_count": 6,
   "metadata": {},
   "outputs": [
    {
     "data": {
      "image/png": "[encoded data removed]",
      "text/plain": [
       "<Figure size 648x360 with 1 Axes>"
      ]
     },
     "metadata": {
      "needs_background": "light"
     },
     "output_type": "display_data"
    },
    {
     "data": {
      "image/png": "[encoded data removed]",
      "text/plain": [
       "<Figure size 648x360 with 1 Axes>"
      ]
     },
     "metadata": {
      "needs_background": "light"
     },
     "output_type": "display_data"
    },
    {
     "data": {
      "image/png": "[encoded data removed]",
      "text/plain": [
       "<Figure size 648x360 with 1 Axes>"
      ]
     },
     "metadata": {
      "needs_background": "light"
     },
     "output_type": "display_data"
    },
    {
     "data": {
      "image/png": "[encoded data removed]",
      "text/plain": [
       "<Figure size 648x360 with 1 Axes>"
      ]
     },
     "metadata": {
      "needs_background": "light"
     },
     "output_type": "display_data"
    }
   ],
   "source": [
    "#针对离散型变量\n",
    "\n",
    "# 构造不同收入水平下各种族人数的数据    \n",
    "race = pd.DataFrame(income.groupby(by = ['race','income']).aggregate(np.size).loc[:,'age'])\n",
    "# 重设行索引\n",
    "race = race.reset_index()\n",
    "# 变量重命名\n",
    "race.rename(columns={'age':'counts'}, inplace=True)\n",
    "# 排序\n",
    "race.sort_values(by = ['race','counts'], ascending=False, inplace=True)\n",
    "\n",
    "# 构造不同收入水平下各家庭关系人数的数据\n",
    "relationship = pd.DataFrame(income.groupby(by = ['relationship','income']).aggregate(np.size).loc[:,'age'])\n",
    "relationship = relationship.reset_index()\n",
    "relationship.rename(columns={'age':'counts'}, inplace=True)\n",
    "relationship.sort_values(by = ['relationship','counts'], ascending=False, inplace=True)\n",
    "\n",
    "# 设置图框比例，并绘图\n",
    "plt.figure(figsize=(9,5))\n",
    "sns.barplot(x=\"race\", y=\"counts\", hue = 'income', data=race)\n",
    "plt.show()\n",
    "\n",
    "plt.figure(figsize=(9,5))\n",
    "sns.barplot(x=\"relationship\", y=\"counts\", hue = 'income', data=relationship)\n",
    "plt.show()\n",
    "\n",
    "#构造不同收入水平下各不同工作类型人数的数据\n",
    "workclass=pd.DataFrame(income.groupby(by=['workclass','income']).aggregate(np.size).loc[:,'age'])\n",
    "workclass=workclass.reset_index()\n",
    "workclass.rename(columns={'age':'counts'},inplace=True)\n",
    "workclass.sort_values(by=['workclass','counts'],ascending=False,inplace=True)\n",
    "plt.figure(figsize=(9,5))\n",
    "sns.barplot(x=\"workclass\", y=\"counts\", hue = 'income', data=workclass)\n",
    "plt.show()\n",
    "\n",
    "#构造不同收入水平下各不同工作类型人数的数据\n",
    "sex=pd.DataFrame(income.groupby(by=['sex','income']).aggregate(np.size).loc[:,'age'])\n",
    "sex=sex.reset_index()\n",
    "sex.rename(columns={'age':'counts'},inplace=True)\n",
    "sex.sort_values(by=['sex','counts'],ascending=False,inplace=True)\n",
    "plt.figure(figsize=(9,5))\n",
    "sns.barplot(x=\"sex\", y=\"counts\", hue = 'income', data=sex)\n",
    "plt.show()"
   ]
  },
  {
   "cell_type": "code",
   "execution_count": 7,
   "metadata": {},
   "outputs": [
    {
     "name": "stdout",
     "output_type": "stream",
     "text": [
      "   age  workclass  fnlwgt  education  education-num  marital-status  \\\n",
      "0   39          6   77516          9             13               4   \n",
      "1   50          5   83311          9             13               2   \n",
      "2   38          3  215646         11              9               0   \n",
      "3   53          3  234721          1              7               2   \n",
      "4   28          3  338409          9             13               2   \n",
      "\n",
      "   occupation  relationship  race  sex  capital-gain  capital-loss  \\\n",
      "0           0             1     4    1          2174             0   \n",
      "1           3             0     4    1             0             0   \n",
      "2           5             1     4    1             0             0   \n",
      "3           5             0     2    1             0             0   \n",
      "4           9             5     2    0             0             0   \n",
      "\n",
      "   hours-per-week  native-country  income  \n",
      "0              40              38       0  \n",
      "1              13              38       0  \n",
      "2              40              38       0  \n",
      "3              40              38       0  \n",
      "4              40               4       0  \n"
     ]
    }
   ],
   "source": [
    "# 离散变量的重编码\n",
    "for feature in income.columns:\n",
    "    if income[feature].dtype == 'object':\n",
    "        income[feature] = pd.Categorical(income[feature]).codes\n",
    "print(income.head())\n",
    "#categorical  实际上是计算一个列表型数据中的类别数，即不重复项，它返回的是一个CategoricalDtype 类型的对象，相当于在原来数据上附加上类别信息 ，\n",
    "#具体的类别可以通过和对应的序号可以通过  codes  和 categories 来查看："
   ]
  },
  {
   "cell_type": "code",
   "execution_count": 8,
   "metadata": {},
   "outputs": [
    {
     "name": "stdout",
     "output_type": "stream",
     "text": [
      "   age  workclass  education-num  marital-status  occupation  relationship  \\\n",
      "0   39          6             13               4           0             1   \n",
      "1   50          5             13               2           3             0   \n",
      "2   38          3              9               0           5             1   \n",
      "3   53          3              7               2           5             0   \n",
      "4   28          3             13               2           9             5   \n",
      "\n",
      "   race  sex  capital-gain  capital-loss  hours-per-week  native-country  \\\n",
      "0     4    1          2174             0              40              38   \n",
      "1     4    1             0             0              13              38   \n",
      "2     4    1             0             0              40              38   \n",
      "3     2    1             0             0              40              38   \n",
      "4     2    0             0             0              40               4   \n",
      "\n",
      "   income  \n",
      "0       0  \n",
      "1       0  \n",
      "2       0  \n",
      "3       0  \n",
      "4       0  \n"
     ]
    }
   ],
   "source": [
    "# 删除变量\n",
    "income.drop(['education','fnlwgt'], axis = 1, inplace = True)\n",
    "print(income.head())"
   ]
  },
  {
   "cell_type": "code",
   "execution_count": 9,
   "metadata": {},
   "outputs": [
    {
     "name": "stdout",
     "output_type": "stream",
     "text": [
      "训练数据集共有24420条观测\n",
      "测试数据集共有8141条观测\n"
     ]
    },
    {
     "name": "stderr",
     "output_type": "stream",
     "text": [
      "D:\\Anaconda3\\lib\\site-packages\\sklearn\\model_selection\\_split.py:2026: FutureWarning: From version 0.21, test_size will always complement train_size unless both are specified.\n",
      "  FutureWarning)\n"
     ]
    }
   ],
   "source": [
    "# 数据拆分,拆成训练集和测试集\n",
    "from sklearn.model_selection import train_test_split\n",
    "\n",
    "X_train, X_test, y_train, y_test = train_test_split(income.loc[:,'age':'native-country'], \n",
    "                                                    income['income'], train_size = 0.75, \n",
    "                                                    random_state = 1234)\n",
    "print('训练数据集共有%d条观测' %X_train.shape[0])\n",
    "print('测试数据集共有%d条观测' %X_test.shape[0])"
   ]
  },
  {
   "cell_type": "code",
   "execution_count": 10,
   "metadata": {},
   "outputs": [
    {
     "name": "stdout",
     "output_type": "stream",
     "text": [
      "KNeighborsClassifier(algorithm='auto', leaf_size=30, metric='minkowski',\n",
      "           metric_params=None, n_jobs=1, n_neighbors=5, p=2,\n",
      "           weights='uniform')\n",
      "income     0     1\n",
      "row_0             \n",
      "0       5637   723\n",
      "1        589  1192\n",
      "模型在训练集上的准确率0.890500\n",
      "模型在测试集上的准确率0.838840\n"
     ]
    }
   ],
   "source": [
    "# 导入k近邻模型的类\n",
    "from sklearn.neighbors import KNeighborsClassifier\n",
    "# 构建k近邻模型\n",
    "kn = KNeighborsClassifier()\n",
    "kn.fit(X_train, y_train)\n",
    "print(kn)\n",
    "\n",
    "# 预测测试集\n",
    "kn_pred = kn.predict(X_test)\n",
    "print(pd.crosstab(kn_pred, y_test))\n",
    "\n",
    "# 模型得分\n",
    "print('模型在训练集上的准确率%f' %kn.score(X_train,y_train))\n",
    "print('模型在测试集上的准确率%f' %kn.score(X_test,y_test))"
   ]
  },
  {
   "cell_type": "code",
   "execution_count": 11,
   "metadata": {},
   "outputs": [
    {
     "data": {
      "image/png": "[encoded data removed]",
      "text/plain": [
       "<Figure size 432x288 with 1 Axes>"
      ]
     },
     "metadata": {
      "needs_background": "light"
     },
     "output_type": "display_data"
    }
   ],
   "source": [
    "# 计算ROC曲线的x轴和y轴数据\n",
    "fpr, tpr, _ = metrics.roc_curve(y_test, kn.predict_proba(X_test)[:,1])\n",
    "# 绘制ROC曲线\n",
    "plt.plot(fpr, tpr, linestyle = 'solid', color = 'red')\n",
    "# 添加阴影\n",
    "plt.stackplot(fpr, tpr, color = 'steelblue')\n",
    "# 绘制参考线\n",
    "plt.plot([0,1],[0,1], linestyle = 'dashed', color = 'black')\n",
    "# 往图中添加文本\n",
    "plt.text(0.6,0.4,'AUC=%.3f' % metrics.auc(fpr,tpr), fontdict = dict(size = 18))\n",
    "plt.show()"
   ]
  },
  {
   "cell_type": "code",
   "execution_count": 12,
   "metadata": {},
   "outputs": [
    {
     "name": "stderr",
     "output_type": "stream",
     "text": [
      "D:\\Anaconda3\\lib\\site-packages\\sklearn\\ensemble\\weight_boosting.py:29: DeprecationWarning: numpy.core.umath_tests is an internal NumPy module and should not be imported. It will be removed in a future NumPy release.\n",
      "  from numpy.core.umath_tests import inner1d\n"
     ]
    },
    {
     "name": "stdout",
     "output_type": "stream",
     "text": [
      "GradientBoostingClassifier(criterion='friedman_mse', init=None,\n",
      "              learning_rate=0.1, loss='deviance', max_depth=3,\n",
      "              max_features=None, max_leaf_nodes=None,\n",
      "              min_impurity_decrease=0.0, min_impurity_split=None,\n",
      "              min_samples_leaf=1, min_samples_split=2,\n",
      "              min_weight_fraction_leaf=0.0, n_estimators=100,\n",
      "              presort='auto', random_state=None, subsample=1.0, verbose=0,\n",
      "              warm_start=False)\n",
      "income     0     1\n",
      "row_0             \n",
      "0       5862   784\n",
      "1        364  1131\n",
      "模型在训练集上的准确率0.869451\n",
      "模型在测试集上的准确率0.858985\n"
     ]
    },
    {
     "data": {
      "image/png": "[encoded data removed]",
      "text/plain": [
       "<Figure size 432x288 with 1 Axes>"
      ]
     },
     "metadata": {
      "needs_background": "light"
     },
     "output_type": "display_data"
    }
   ],
   "source": [
    "# 导入GBDT模型的类\n",
    "from sklearn.ensemble import GradientBoostingClassifier\n",
    "# 构建GBDT模型\n",
    "gbdt = GradientBoostingClassifier()\n",
    "gbdt.fit(X_train, y_train)\n",
    "print(gbdt)\n",
    "\n",
    "# 预测测试集\n",
    "gbdt_pred = gbdt.predict(X_test)\n",
    "print(pd.crosstab(gbdt_pred, y_test))\n",
    "\n",
    "# 模型得分\n",
    "print('模型在训练集上的准确率%f' %gbdt.score(X_train,y_train))\n",
    "print('模型在测试集上的准确率%f' %gbdt.score(X_test,y_test))\n",
    "\n",
    "# 绘制ROC曲线\n",
    "fpr, tpr, _ = metrics.roc_curve(y_test, gbdt.predict_proba(X_test)[:,1])\n",
    "plt.plot(fpr, tpr, linestyle = 'solid', color = 'red')\n",
    "plt.stackplot(fpr, tpr, color = 'steelblue')\n",
    "plt.plot([0,1],[0,1], linestyle = 'dashed', color = 'black')\n",
    "plt.text(0.6,0.4,'AUC=%.3f' % metrics.auc(fpr,tpr), fontdict = dict(size = 18))\n",
    "plt.show()"
   ]
  },
  {
   "cell_type": "code",
   "execution_count": null,
   "metadata": {},
   "outputs": [],
   "source": [
    "# K近邻模型的网格搜索法\n",
    "# 导入网格搜索法的函数\n",
    "from sklearn.model_selection import GridSearchCV\n",
    "# 选择不同的参数\n",
    "k_options = list(range(1,12))\n",
    "parameters = {'n_neighbors':k_options}\n",
    "# 搜索不同的K值\n",
    "grid_kn = GridSearchCV(estimator = KNeighborsClassifier(), param_grid = parameters, cv=10, scoring='accuracy', verbose=0)\n",
    "grid_kn.fit(X_train, y_train)\n",
    "print(grid_kn)\n",
    "# 结果输出\n",
    "print(grid_kn.grid_scores_, grid_kn.best_params_, grid_kn.best_score_) \n",
    "\n",
    "# 预测测试集\n",
    "grid_kn_pred = grid_kn.predict(X_test)\n",
    "print(pd.crosstab(grid_kn_pred, y_test))\n",
    "\n",
    "# 模型得分\n",
    "print('模型在训练集上的准确率%f' %grid_kn.score(X_train,y_train))\n",
    "print('模型在测试集上的准确率%f' %grid_kn.score(X_test,y_test))\n",
    "\n",
    "# 绘制ROC曲线\n",
    "fpr, tpr, _ = metrics.roc_curve(y_test, grid_kn.predict_proba(X_test)[:,1])\n",
    "plt.plot(fpr, tpr, linestyle = 'solid', color = 'red')\n",
    "plt.stackplot(fpr, tpr, color = 'steelblue')\n",
    "plt.plot([0,1],[0,1], linestyle = 'dashed', color = 'black')\n",
    "plt.text(0.6,0.4,'AUC=%.3f' % metrics.auc(fpr,tpr), fontdict = dict(size = 18))\n",
    "plt.show()\n"
   ]
  },
  {
   "cell_type": "code",
   "execution_count": null,
   "metadata": {},
   "outputs": [],
   "source": [
    "# GBDT模型的网格搜索法\n",
    "# 选择不同的参数\n",
    "learning_rate_options = [0.01,0.05,0.1]\n",
    "max_depth_options = [3,5,7,9]\n",
    "n_estimators_options = [100,300,500]\n",
    "parameters = {'learning_rate':learning_rate_options,'max_depth':max_depth_options,'n_estimators':n_estimators_options}\n",
    "\n",
    "grid_gbdt = GridSearchCV(estimator = GradientBoostingClassifier(), param_grid = parameters, cv=10, scoring='accuracy')\n",
    "grid_gbdt.fit(X_train, y_train)\n",
    "\n",
    "# 结果输出\n",
    "grid_gbdt.grid_scores_, grid_gbdt.best_params_, grid_gbdt.best_score_  \n",
    "\n",
    "\n",
    "# 预测测试集\n",
    "grid_gbdt_pred = grid_gbdt.predict(X_test)\n",
    "print(pd.crosstab(grid_gbdt_pred, y_test))\n",
    "\n",
    "# 模型得分\n",
    "print('模型在训练集上的准确率%f' %grid_gbdt.score(X_train,y_train))\n",
    "print('模型在测试集上的准确率%f' %grid_gbdt.score(X_test,y_test))\n",
    "\n",
    "# 绘制ROC曲线\n",
    "fpr, tpr, _ = metrics.roc_curve(y_test, grid_gbdt.predict_proba(X_test)[:,1])\n",
    "plt.plot(fpr, tpr, linestyle = 'solid', color = 'red')\n",
    "plt.stackplot(fpr, tpr, color = 'steelblue')\n",
    "plt.plot([0,1],[0,1], linestyle = 'dashed', color = 'black')\n",
    "plt.text(0.6,0.4,'AUC=%.3f' % metrics.auc(fpr,tpr), fontdict = dict(size = 18))\n",
    "plt.show()"
   ]
  }
 ],
 "metadata": {
  "kernelspec": {
   "display_name": "Python 3",
   "language": "python",
   "name": "python3"
  },
  "language_info": {
   "codemirror_mode": {
    "name": "ipython",
    "version": 3
   },
   "file_extension": ".py",
   "mimetype": "text/x-python",
   "name": "python",
   "nbconvert_exporter": "python",
   "pygments_lexer": "ipython3",
   "version": "3.7.0"
  }
 },
 "nbformat": 4,
 "nbformat_minor": 2
}
